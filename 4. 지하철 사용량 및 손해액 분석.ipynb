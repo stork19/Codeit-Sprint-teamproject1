{
 "cells": [
  {
   "cell_type": "markdown",
   "id": "cc1db5d0",
   "metadata": {},
   "source": [
    "## 데이터 불러오기\n"
   ]
  },
  {
   "cell_type": "code",
   "execution_count": null,
   "id": "90e9b64c",
   "metadata": {},
   "outputs": [],
   "source": [
    "# 각자의 데이터가 있는 위치를 지정해주시면 됩니다.\n",
    "file_directory = '/content/drive/MyDrive/Colab Notebooks/코드잇_초급프로젝트1/data'\n",
    "os.chdir(file_directory)\n"
   ]
  },
  {
   "cell_type": "code",
   "execution_count": null,
   "id": "1ea732b1",
   "metadata": {},
   "outputs": [],
   "source": [
    "globals_dict = globals()\n",
    "\n",
    "start_year = 2016\n",
    "end_year = 2024\n",
    "df_month = pd.DataFrame(columns=['년월', '무임승차 합계'])\n",
    "df_line_month = pd.DataFrame(columns=['년월', '호선명', '무임승차'])\n",
    "\n",
    "\n",
    "# 2016년 1월부터 2024년 6월까지 for loop\n",
    "for year in range(start_year, end_year+1):\n",
    "    for month in range(1, 13):\n",
    "        # 2024년 7월 이후는 제외\n",
    "        if year == end_year and month > 6:\n",
    "            break\n",
    "        # 년도와 월을 문자열로 변환\n",
    "        years_month = f\"{year}_{str(month).zfill(2)}\"\n",
    "\n",
    "        # xls 파일 경로 (년월에 따라 다른 파일을 불러오는 경우)\n",
    "        filename = f\"subway_data/{year}/{year}{str(month).zfill(2)}_교통카드_통계자료.xls\"\n",
    "\n",
    "        # xls 파일 불러오기(sheet는 '버스정류장별 이용현황', '지하철 노선별 역별 이용현황', '지하철 유무임별 이용현황', '지하철 시간대별 이용현황')\n",
    "        df = pd.read_excel(filename, sheet_name='지하철 유무임별 이용현황')\n",
    "\n",
    "        df['유임승차'] = df['유임승차'].str.replace(',', '').astype(int)\n",
    "        df['유임하차'] = df['유임하차'].str.replace(',', '').astype(int)\n",
    "        df['무임승차'] = df['무임승차'].str.replace(',', '').astype(int)\n",
    "        df['무임하차'] = df['무임하차'].str.replace(',', '').astype(int)\n",
    "\n",
    "        # 전역 변수로 저장\n",
    "        globals_dict[f'df_{years_month}'] = df\n",
    "\n",
    "        #년월별로 무임승차 합\n",
    "        month_free_rides = globals_dict[f'df_{years_month}']['무임승차'].sum()\n",
    "        month_pay_rides = globals_dict[f'df_{years_month}']['유임승차'].sum()\n",
    "\n",
    "        #년월별 무임승차 합이 나온 DataFrame\n",
    "        df_temp = pd.DataFrame({\n",
    "            '년월': [years_month],\n",
    "            '무임승차 합계': [month_free_rides],\n",
    "            '유임승차 합계': [month_pay_rides]\n",
    "        })\n",
    "        df_line = df.groupby('호선명')['무임승차'].sum().reset_index()\n",
    "        df_line['년월'] = years_month\n",
    "\n",
    "        # df_line_month에 df_line을 추가\n",
    "        df_line_month = pd.concat([df_line_month, df_line], ignore_index=True)\n",
    "\n",
    "        #df_month에 df_temp를 추가\n",
    "        df_month = pd.concat([df_month, df_temp], ignore_index=True)\n",
    "\n",
    "print(\"파일을 전부 load 했습니다.\")\n"
   ]
  },
  {
   "cell_type": "code",
   "execution_count": null,
   "id": "12b094b0",
   "metadata": {},
   "outputs": [],
   "source": [
    "# 년월별 무임승차, 유임승차의 합계값\n",
    "df_month"
   ]
  },
  {
   "cell_type": "code",
   "execution_count": null,
   "id": "e928f690",
   "metadata": {},
   "outputs": [],
   "source": [
    "## 년월에 따른 호선별 무임승차합산\n",
    "df_line_month"
   ]
  },
  {
   "cell_type": "code",
   "execution_count": null,
   "id": "892c3034",
   "metadata": {},
   "outputs": [],
   "source": [
    "# 윈도우 기준 encoding을 'cp949', 다른 환경에서는 'utf-8'\n",
    "df_month.to_csv('df_month.csv', index=False, encoding='cp949')"
   ]
  },
  {
   "cell_type": "code",
   "execution_count": null,
   "id": "4959e401",
   "metadata": {},
   "outputs": [],
   "source": [
    "# 24년도 기준 고령자 현황표(24년도만 1/4분기에 조사된 내용으로 기입했습니다. 그외 연도별 65세 이상인구는 4분기 조사 내용으로 넣었습니다.)\n",
    "df_old = pd.read_excel('static_data/24년_고령자현황.xls', sheet_name='데이터')"
   ]
  },
  {
   "cell_type": "markdown",
   "id": "a16d2f83",
   "metadata": {},
   "source": [
    "\n",
    "### 파일 load 확인\n",
    "df_{년도}_{월} 을 기입\n",
    "ex) df_2018_01 (2018년 1월)\n"
   ]
  },
  {
   "cell_type": "code",
   "execution_count": null,
   "id": "8e32125a",
   "metadata": {},
   "outputs": [],
   "source": [
    "df_2024_06"
   ]
  },
  {
   "cell_type": "code",
   "execution_count": null,
   "id": "a309795e",
   "metadata": {},
   "outputs": [],
   "source": [
    "# 연도별 고령화 인구\n",
    "df_old"
   ]
  },
  {
   "cell_type": "code",
   "execution_count": null,
   "id": "50956616",
   "metadata": {},
   "outputs": [],
   "source": [
    "globals_dict = globals()\n",
    "\n",
    "# 년도별로 병합된 DataFrame을 저장할 딕셔너리 생성\n",
    "annual_dfs = {}\n",
    "\n",
    "# 2016년 1월부터 2024년 6월까지 for loop\n",
    "for year in range(start_year, end_year+1):\n",
    "    # 해당 년도의 DataFrame을 저장할 리스트 생성\n",
    "    dfs = []\n",
    "\n",
    "    for month in range(1, 13):\n",
    "        # 2024년 7월 이후는 제외\n",
    "        if year == end_year and month > 6:\n",
    "            break\n",
    "        # 년도와 월을 문자열로 변환\n",
    "        years_month = f\"{year}_{str(month).zfill(2)}\"\n",
    "        df = globals_dict[f'df_{years_month}']\n",
    "        dfs.append(df)\n",
    "\n",
    "    merged_df = pd.concat(dfs)\n",
    "    # 기존의 조건부는 '호선명', '역ID', '지하철역' 이였으나, 중간에 역id가 바뀌는 이슈로 총합계산에 어려움이 따름\n",
    "    annual_stats = merged_df.groupby(['호선명', '지하철역']).agg({\n",
    "        '유임승차': 'sum',\n",
    "        '유임하차': 'sum',\n",
    "        '무임승차': 'sum',\n",
    "        '무임하차': 'sum'\n",
    "    }).reset_index()\n",
    "\n",
    "#     annual_stats['유임승하차승객수'] = annual_stats['유임승차'] + annual_stats['유임하차']\n",
    "#     annual_stats['무임승하차승객수'] = annual_stats['무임승차'] + annual_stats['무임하차']\n",
    "\n",
    "    annual_dfs[year] = annual_stats\n",
    "\n",
    "# 결과 출력\n",
    "for year, df in annual_dfs.items():\n",
    "    print(f\"\\n{year}년 승차 승객수:\")\n",
    "    print(f\"\\n{year}년 유임승차 승객수 상위 20개소 :\\n {df.sort_values(by='유임승차', ascending=False)[:20]}\")\n",
    "    print(f\"\\n{year}년 무임승차 승객수 상위 20개소 :\\n {df.sort_values(by='무임승차', ascending=False)[:20]}\")"
   ]
  },
  {
   "cell_type": "markdown",
   "id": "d675e3c4",
   "metadata": {},
   "source": [
    "## 연도별 유임승차, 무임승차, 무임승차비율\n",
    "- 연도별 유임승차, 무임승차는 합산\n",
    "- 무임승차비율은 평균계산"
   ]
  },
  {
   "cell_type": "code",
   "execution_count": null,
   "id": "725451ff",
   "metadata": {},
   "outputs": [],
   "source": [
    "# 년도별 통계를 저장할 DataFrame 생성(년도 누적합)\n",
    "annual_summary = pd.DataFrame(columns=['연도', '유임승차', '무임승차', '무임승차비율'])\n",
    "\n",
    "# 2016년부터 2024년까지 for loop\n",
    "for year in range(start_year, end_year+1):\n",
    "    # 해당 년도의 DataFrame 가져오기\n",
    "    df = annual_dfs[year]\n",
    "    # 무임승차비율 계산(유임승차 + 무임승차) = 승차총합\n",
    "    df['무임승차비율'] = df['무임승차'].sum() / (df['유임승차'].sum() + df['무임승차'].sum()) * 100\n",
    "    # 유임승차, 무임승차 합산 및 무임승차 비율 평균 계산\n",
    "    condition1 = df['유임승차'].sum()\n",
    "    condition2 = df['무임승차'].sum()\n",
    "    condition3 = round(df['무임승차비율'].mean(), 2)\n",
    "    condition4 = condition1 + condition2\n",
    "\n",
    "    # 계산된 값을 annual_summary에 추가\n",
    "    new_df = pd.DataFrame({\n",
    "        '연도': [year],\n",
    "        '유임승차': [condition1],\n",
    "        '무임승차': [condition2],\n",
    "        '무임승차비율': [condition3],\n",
    "        '유무임승차' : [condition4]\n",
    "    })\n",
    "    annual_summary = pd.concat([annual_summary, new_df], ignore_index=True)\n",
    "\n",
    "\n",
    "## 무임승차비율 추가\n",
    "\n",
    "# 연도를 정수형으로\n",
    "annual_summary['연도'] = annual_summary['연도'].astype(int)\n",
    "\n",
    "# 유임승차를 정수형으로 안하는 이유는 수치가 너무 커서 정수형으로 변경시 음수의 결과가 나옴.\n",
    "# 생각해보기엔 2진법으로 나타내는데 한계점이 있기 때문이라고 봄\n",
    "\n",
    "# 무임승차를 정수형으로 변환\n",
    "annual_summary['무임승차'] = annual_summary['무임승차'].astype(int)\n",
    "\n",
    "print(annual_summary)"
   ]
  },
  {
   "cell_type": "markdown",
   "id": "2c0b5b34",
   "metadata": {},
   "source": [
    "데이터명\n",
    "- df_2024_01 : 2024년 01월 데이터\n",
    "- annual_dfs[2024] : 해당년도 호선별 데이터(년도 기입할때는 정수형으로 숫자만 넣으면 됨)\n",
    "- annual_summary : 1년 단위로 요약(유임승차 합산, 무임승차합산, 무임승차비율)\n",
    "- df_old : 연도별 고령화(65세 이상) 인원수 데이터\n"
   ]
  },
  {
   "cell_type": "markdown",
   "id": "4778ac07",
   "metadata": {},
   "source": [
    "\n",
    "### 지하철_유무임별_이용현황_plot\n"
   ]
  },
  {
   "cell_type": "code",
   "execution_count": null,
   "id": "9b4331de",
   "metadata": {},
   "outputs": [],
   "source": [
    "# line_plotting(데이터, x축 이름, y축 이름)\n",
    "def line_plotting(data, x_label, y_label, title):\n",
    "    plt.figure(figsize=(12,6))\n",
    "    sns.lineplot(data[y_label], marker='o', color='b')\n",
    "    plt.title(f'{title} {x_label}별 {y_label}', fontsize=16)\n",
    "    plt.xticks(np.arange(end_year-start_year+1), ['2016', '2017', '2018', '2019', '2020',\n",
    "                                                '2021', '2022', '2023', '2024'])\n",
    "    plt.grid(True)\n",
    "    plt.xlabel(x_label, fontsize=12)\n",
    "    plt.ylabel(y_label, fontsize=12)\n",
    "\n",
    "    # plot graph 저장\n",
    "    plt.savefig(f'{title} {x_label}별 {y_label}.png')\n",
    "    plt.show()"
   ]
  },
  {
   "cell_type": "code",
   "execution_count": null,
   "id": "24f56444",
   "metadata": {},
   "outputs": [],
   "source": [
    "line_plotting(annual_summary, '연도', '무임승차', '지하철')"
   ]
  },
  {
   "cell_type": "code",
   "execution_count": null,
   "id": "9ba98af1",
   "metadata": {},
   "outputs": [],
   "source": [
    "line_plotting(annual_summary, '연도', '유임승차', '지하철')"
   ]
  },
  {
   "cell_type": "code",
   "execution_count": null,
   "id": "d566573c",
   "metadata": {},
   "outputs": [],
   "source": [
    "line_plotting(annual_summary, '연도', '무임승차비율', '지하철')"
   ]
  },
  {
   "cell_type": "markdown",
   "id": "3bbe7bf0",
   "metadata": {},
   "source": [
    "### 고령인구비율 plot\n",
    " - 서울시 통계청 조사자료를 기반으로 65세(무임승차 조건부인)의 서울시 인구비율 그래프"
   ]
  },
  {
   "cell_type": "code",
   "execution_count": null,
   "id": "a9ba07db",
   "metadata": {},
   "outputs": [],
   "source": [
    "df_old['고령인구비율'] = (df_old['65세이상 인구'] / df_old['전체인구']) * 100\n",
    "df_old"
   ]
  },
  {
   "cell_type": "code",
   "execution_count": null,
   "id": "fc28ea4f",
   "metadata": {},
   "outputs": [],
   "source": [
    "line_plotting(df_old, '연도', '고령인구비율', '서울시')"
   ]
  },
  {
   "cell_type": "code",
   "execution_count": null,
   "id": "4243cae3",
   "metadata": {},
   "outputs": [],
   "source": [
    "df_compare = pd.DataFrame()\n",
    "df_compare['연도'] = df_old['연도']\n",
    "df_compare['고령인구비율'] = df_old['고령인구비율']\n",
    "df_compare['무임승차비율'] = annual_summary['무임승차비율']\n",
    "df_compare"
   ]
  },
  {
   "cell_type": "code",
   "execution_count": null,
   "id": "1572f070",
   "metadata": {},
   "outputs": [],
   "source": [
    "# 고령인구비율과 무임승차비율의 상관관계를 보고싶어서 기입\n",
    "# 고령인구와 무임승차의 상관계수 0.970244로 매우 유사함을 보임\n",
    "df_compare.corr()"
   ]
  },
  {
   "cell_type": "code",
   "execution_count": null,
   "id": "373fc444",
   "metadata": {},
   "outputs": [],
   "source": [
    "import statsmodels.api as sm\n",
    "df_compare['증가량'] = df_compare['무임승차비율'].diff()\n",
    "average_increase = df_compare['증가량'].mean()\n",
    "print(f\"연도별 평균 증가량: {average_increase}\")\n",
    "\n",
    "# 2024년부터 2030년까지 예측(24년도 데이터가 전부 있는게 아니라서 예측에도 넣음)\n",
    "future_years = [2024, 2025, 2026, 2027, 2028, 2029, 2030]\n",
    "last_value = df_compare['무임승차비율'].iloc[-1]\n",
    "future_values = [last_value + average_increase * (i + 1) for i in range(len(future_years))]\n",
    "\n",
    "# 예측 결과 데이터프레임 생성\n",
    "future_df = pd.DataFrame({'연도': future_years, '예측 무임승차비율': future_values})\n",
    "\n",
    "print(future_df)"
   ]
  },
  {
   "cell_type": "code",
   "execution_count": null,
   "id": "26c77604",
   "metadata": {},
   "outputs": [],
   "source": [
    "# 시각화\n",
    "plt.figure(figsize=(10, 6))\n",
    "plt.plot(df_compare['연도'], df_compare['무임승차비율'], label='실제 데이터', marker='o')\n",
    "plt.plot(future_df['연도'], future_df['예측 무임승차비율'], label='예측 데이터', linestyle='--', marker='o')\n",
    "plt.title('연도별 무임승차 추세', fontsize = 16)\n",
    "plt.xlabel('연도', fontsize = 12)\n",
    "plt.ylabel('무임승차비율(%)', fontsize = 12)\n",
    "plt.grid(True)\n",
    "plt.legend()\n",
    "plt.show()"
   ]
  },
  {
   "cell_type": "code",
   "execution_count": null,
   "id": "91ef3b45",
   "metadata": {},
   "outputs": [],
   "source": [
    "# 고령인구비율간 차이를 계산. 평균 증가량을 계산후에 평균 증가량을 기준으로 예측을 만듬.\n",
    "df_compare['증가량'] = df_compare['고령인구비율'].diff()\n",
    "average_increase = df_compare['증가량'].mean()\n",
    "print(f\"연도별 평균 증가량: {average_increase}\")\n",
    "\n",
    "# 2024년부터 2030년까지 예측\n",
    "future_years = [2024, 2025, 2026, 2027, 2028, 2029, 2030]\n",
    "last_value = df_compare['고령인구비율'].iloc[-1]\n",
    "future_values = [last_value + average_increase * (i + 1) for i in range(len(future_years))]\n",
    "\n",
    "# 예측 결과 데이터프레임 생성\n",
    "future_df = pd.DataFrame({'연도': future_years, '예측 고령인구비율': future_values})\n",
    "\n",
    "print(future_df)"
   ]
  },
  {
   "cell_type": "code",
   "execution_count": null,
   "id": "e23b6c89",
   "metadata": {},
   "outputs": [],
   "source": [
    "# 예측 결과를 포함한 시각화\n",
    "plt.figure(figsize=(10, 6))\n",
    "plt.plot(df_compare['연도'], df_compare['고령인구비율'], label='실제 데이터', marker='o')\n",
    "plt.plot(future_df['연도'], future_df['예측 고령인구비율'], label='예측 데이터', linestyle='--', marker='o')\n",
    "plt.title('연도별 고령인구비율 추세')\n",
    "plt.xlabel('연도')\n",
    "plt.ylabel('고령인구비율(%)')\n",
    "plt.grid(True)\n",
    "plt.legend()\n",
    "plt.show()"
   ]
  },
  {
   "cell_type": "markdown",
   "id": "b24db044",
   "metadata": {},
   "source": [
    "### 서울시 65~69세 인원현황"
   ]
  },
  {
   "cell_type": "code",
   "execution_count": null,
   "id": "37ce7f6d",
   "metadata": {},
   "outputs": [],
   "source": [
    "df_older=pd.DataFrame({\n",
    "    '연도' : [2016, 2017, 2018, 2019, 2020, 2021, 2022, 2023],\n",
    "    '서울시전체' : [10204057, 10124579, 10049607, 10010983, 9911088, 9736027, 9667669, 9638799],\n",
    "    '65~69세' : [451804, 465476, 471878, 493045, 533767, 568036, 585417, 615216]\n",
    "})\n",
    "\n",
    "df_older['65~69세 비율'] = df_older['65~69세'] / df_older['서울시전체']\n",
    "df_older"
   ]
  },
  {
   "cell_type": "code",
   "execution_count": null,
   "id": "ef7945da",
   "metadata": {},
   "outputs": [],
   "source": [
    "## 서울시 통계청의 고령인구 비율을 이용하여 지하철 총 이용수에 대입하여 대략적인 고령인구 사용인원을 예측함.\n",
    "# 2023년 10월 17일 기준으로 1400원으로 바뀌었기 때문에 계산에 어려움이 따라서 1250원으로 고정\n",
    "# 전체 승차 명수 * 65~69세 비율(서울시 전체 인원 중 65~69세가 차지하는 비율) * 비용\n",
    "free_riding = round((annual_summary['유무임승차'][:-1] * df_older['65~69세 비율']), 0) * 1250"
   ]
  },
  {
   "cell_type": "code",
   "execution_count": null,
   "id": "15e19d62",
   "metadata": {},
   "outputs": [],
   "source": [
    "# 계산값 확인\n",
    "free_riding[0]"
   ]
  },
  {
   "cell_type": "markdown",
   "id": "7c5912a2",
   "metadata": {},
   "source": [
    "### 고령인구의 교통비를 100% 받는경우\n"
   ]
  },
  {
   "cell_type": "code",
   "execution_count": null,
   "id": "61e8e3ac",
   "metadata": {},
   "outputs": [],
   "source": [
    "\n",
    "i = 0\n",
    "for year in range(start_year, end_year):\n",
    "    print(f\"{year}의 65~69세 비율에 따른 무임승차 비용은 {free_riding[i]}원 입니다.\")\n",
    "    i += 1\n",
    "\n",
    "print(f\"\\n{start_year}~{end_year-1}까지의 65~69세 비율에 따른 무임승차 전체 비용은 {free_riding.sum()}원 입니다.\")\n",
    "print(f\"{start_year}~{end_year-1}까지의 65~69세 비율에 따른 무임승차 평균 비용은 {free_riding.mean()}원 입니다.\")"
   ]
  },
  {
   "cell_type": "code",
   "execution_count": null,
   "id": "e4010aaf",
   "metadata": {},
   "outputs": [],
   "source": [
    "free_riding2 = round((annual_summary['유무임승차'][:-1] * df_older['65~69세 비율']), 0) * 1250 * 0.6\n",
    "free_riding2[0]"
   ]
  },
  {
   "cell_type": "markdown",
   "id": "1db842ab",
   "metadata": {},
   "source": [
    "비용을 60%만 받는경우(저소득층 40% 제외)\n",
    "\n",
    "- https://www.joongang.co.kr/article/25244633#home\n",
    "- 고령인구 중에서도 저소득층이 존재함에 따른 소득별 차등 부과"
   ]
  },
  {
   "cell_type": "code",
   "execution_count": null,
   "id": "28194db5",
   "metadata": {},
   "outputs": [],
   "source": [
    "# 교통비의 60%만 받는경우\n",
    "i = 0\n",
    "for year in range(start_year, end_year):\n",
    "    print(f\"{year}의 65~69세 비율에 따른 무임승차 비용은 {free_riding2[i]}원 입니다.\")\n",
    "    i += 1\n",
    "print(f\"\\n{start_year}~{end_year-1}까지의 65~69세 비율에 따른 무임승차 전체 비용은 {free_riding2.sum()}원 입니다.\")\n",
    "print(f\"{start_year}~{end_year-1}까지의 65~69세 비율에 따른 무임승차 평균 비용은 {free_riding2.mean()}원 입니다.\")"
   ]
  },
  {
   "cell_type": "markdown",
   "id": "2427467b",
   "metadata": {},
   "source": [
    "### 손익계산서 데이터 불러오기 및 데이터 비교\n"
   ]
  },
  {
   "cell_type": "code",
   "execution_count": null,
   "id": "7a1b008d",
   "metadata": {},
   "outputs": [],
   "source": [
    "df_finance = pd.read_excel('static_data/서울교통공사_손익계산서.xlsx')"
   ]
  },
  {
   "cell_type": "markdown",
   "id": "a373c67e",
   "metadata": {},
   "source": [
    "![image.png](data:image/png;base64,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)\n"
   ]
  },
  {
   "cell_type": "code",
   "execution_count": null,
   "id": "9d5459bf",
   "metadata": {},
   "outputs": [],
   "source": [
    "df_finance['총수익'] = df_finance['수익'] + df_finance['영업외수익']\n",
    "df_finance['총지출'] = df_finance['매출원가'] + df_finance['판매비와 관리비'] + df_finance['영업외비용']\n",
    "\n",
    "# 손해액 또는 이득액 계산\n",
    "df_finance['손해/이득액'] = df_finance['총수익'] - df_finance['총지출']\n",
    "\n",
    "## 무임승차기대수익 계산 결과만 가져왔음.\n",
    "df_finance['무임승차기대수익'] =  [1.776972e+11, 1.829950e+11, 1.865735e+11, 1.973320e+11, 1.408419e+11, 1.496892e+11, 1.717660e+11, 1.936304e+11]"
   ]
  },
  {
   "cell_type": "code",
   "execution_count": null,
   "id": "d2a67d98",
   "metadata": {},
   "outputs": [],
   "source": [
    "## finance dataframe check\n",
    "df_finance"
   ]
  },
  {
   "cell_type": "code",
   "execution_count": null,
   "id": "b7c41515",
   "metadata": {},
   "outputs": [],
   "source": [
    "\n",
    "# 65~69세에 교통비 100%를 모두 받은 경우\n",
    "modified_df_finance['손해액'] = df_finance['손해액']\n",
    "modified_df_finance['예상손해액(100%)'] = df_finance['손해액'] - free_riding\n",
    "modified_df_finance['예상손해액(100%)'] = modified_df_finance['예상손해액(100%)'].round()\n",
    "modified_df_finance['손해액감소율(100%)'] = modified_df_finance['예상손해액(100%)'] / df_finance['손해액']\n",
    "\n",
    "# 65~69세 저소득층 40%를 제외한 60%만 받은 경우\n",
    "modified_df_finance['예상손해액(60%)'] = df_finance['손해액'] - free_riding2\n",
    "modified_df_finance['예상손해액(60%)'] = modified_df_finance['예상손해액(60%)'].round()\n",
    "modified_df_finance['손해액감소율(60%)'] = modified_df_finance['예상손해액(60%)'] / df_finance['손해액']\n",
    "\n",
    "modified_df_finance\n"
   ]
  },
  {
   "cell_type": "markdown",
   "id": "b49fc109",
   "metadata": {},
   "source": [
    "\n",
    "### 조건별 수익성 비교\n"
   ]
  },
  {
   "cell_type": "markdown",
   "id": "254e632b",
   "metadata": {},
   "source": [
    "\n",
    "#### 조건 1 : 노령화 인구 전부 운행비용을 50% 받는 경우\n",
    "- 무임승차 건수 X 1250 X 0.5로 계산\n"
   ]
  },
  {
   "cell_type": "markdown",
   "id": "73556133",
   "metadata": {},
   "source": [
    "- 우리나라를 제외한 다른 주요국에서의 대중교통수단 할인 제도를 확인 가능.\n",
    "- 보통은 할인 50%를 하거나, 가장 많이 몰리는 시간 이후에 무료로 전환, 혹은 연간 패스권이용\n",
    "- https://i.namu.wiki/i/nJ9tw6M_mj8abHwRJaPIntfxxVOfWbVqFC-OWzA-QWGblJDosq2wdRoKFJXuabQImDcGOj3csW7iVyAzuL37Oe-_joWeIIXqGDhiNBhCvBDj2jEIBHEqLiFj-y4sFbPn2RD27cp0TZpTpgN_dCwDGQ.webp"
   ]
  },
  {
   "cell_type": "code",
   "execution_count": null,
   "id": "e3f8d54d",
   "metadata": {},
   "outputs": [],
   "source": [
    "df_finance_con1 = df_finance.copy()\n",
    "fee = 1250\n",
    "ratio = 0.5\n",
    "\n",
    "df_finance_con1"
   ]
  },
  {
   "cell_type": "code",
   "execution_count": null,
   "id": "2720e737",
   "metadata": {},
   "outputs": [],
   "source": [
    "income  = (annual_summary['무임승차'][:-1] * 1250 * 0.5) + df_finance_con1['손해/이득액']\n",
    "# income\n",
    "\n",
    "i = 0\n",
    "for year in range(start_year, end_year):\n",
    "    if income[i] > 0:\n",
    "        print(f\"{year}년의 수입이 더 큽니다. 손익금액은 {income[i]}원 입니다. \")\n",
    "        i += 1\n",
    "    else:\n",
    "        print(f\"{year}년의 지출이 더 큽니다. 손익금액은 {income[i]}원 입니다. \")\n",
    "        i += 1\n",
    "\n",
    "df_finance_con1['조건1_손해/이득액'] = income\n",
    "df_finance_con1['조건1_감소율'] = round((1 - (df_finance_con1['조건1_손해/이득액']  / df_finance_con1['손해/이득액'] )) * 100, 2)\n",
    "\n",
    "df_finance_con1\n"
   ]
  },
  {
   "cell_type": "markdown",
   "id": "5fb34941",
   "metadata": {},
   "source": [
    "\n",
    "### 조건2 : 운수사업수익을 20% 상향(전체 교통비를 20% 상향된 상태로 똑같이 이용했을 때) 시켰을때  결과 도출\n",
    "\n",
    "- 동일한 유임승차 횟수를 기반으로 산정\n",
    "- 물론 상승된 교통비에 따른 이용률에 변화가 있을 수 있지만, 우선적으로 동일한 사용횟수에서 얼마큼의 차이가 존재하는지 확인하기 위해서 분석\n",
    "- 교통비를 20% 상향했다고 가정(2016~2023년은 일반인 기준 1250원)\n"
   ]
  },
  {
   "cell_type": "code",
   "execution_count": null,
   "id": "7870f37d",
   "metadata": {},
   "outputs": [],
   "source": [
    "df_finance_con2 = df_finance.copy()\n",
    "df_finance_con2"
   ]
  },
  {
   "cell_type": "code",
   "execution_count": null,
   "id": "ac4d2a2a",
   "metadata": {},
   "outputs": [],
   "source": [
    "# 2016 ~ 2023 일반인 기준 운임비용 1250원\n",
    "df_finance_con2['조건2_수익'] = df_finance_con2['총수익'] + (df_finance_con2['운수사업수익']*0.2)\n",
    "df_finance_con2['조건2_손해/이득액'] = df_finance_con2['조건2_수익'] - df_finance_con2['총지출']\n",
    "df_finance_con2['조건2비용감소율'] = round((1 - (df_finance_con2['조건2_손해/이득액'] / df_finance_con2['손해/이득액']))* 100, 2)\n",
    "\n",
    "df_finance_con2\n"
   ]
  },
  {
   "cell_type": "code",
   "execution_count": null,
   "id": "02109519",
   "metadata": {},
   "outputs": [],
   "source": [
    "## 조건2 plotting\n",
    "# 중앙선 그리기\n",
    "plt.figure(figsize=(12, 6))\n",
    "x = df_finance_con2['연도']\n",
    "\n",
    "y = df_finance_con2['조건2_손해/이득액']\n",
    "plt.axhline(0, color='black', linewidth=1)\n",
    "\n",
    "# 중앙선을 기준으로 위, 아래로 나뉘는 막대 그래프 그리기\n",
    "plt.bar(x, y, color=np.where(y>=0, 'blue', 'red'), alpha=0.5)\n",
    "plt.title(\"조건에 따른 손해/이득액\")\n",
    "plt.xlabel(\"연도\")\n",
    "plt.ylabel(\"금액\")\n",
    "plt.show()"
   ]
  },
  {
   "cell_type": "markdown",
   "id": "0c246461",
   "metadata": {},
   "source": [
    "\n",
    "### 조건3 : 운임비용(+25%) + 65~69세 운임비용\n",
    "\n",
    "- 서울교통공사가 계획중인 1550원대를 맞추려면 1250원에서 1.25배하면 정확하진 않지만 유사하게 맞출 수 있음.\n",
    "- 추가적으로 서울시에서 조사한 내용에 따르면 65세 이후에 경제 활동에 참여하는 인구 비율 증가에 따른, 교통비 지불에 있어서 반감이 있을 수는 있지만, 어느정도 부담이 적을 것으로 판단됨\n"
   ]
  },
  {
   "cell_type": "code",
   "execution_count": null,
   "id": "0265588f",
   "metadata": {},
   "outputs": [],
   "source": [
    "df_finance_con3 = df_finance.copy()\n",
    "con_prob = 0.25\n",
    "subway_fee = 1250\n",
    "\n",
    "df_finance_con3"
   ]
  },
  {
   "cell_type": "code",
   "execution_count": null,
   "id": "6d453107",
   "metadata": {},
   "outputs": [],
   "source": [
    "condition1_income =  round((annual_summary['유무임승차'][:-1] * df_older['65~69세 비율']), 0) * subway_fee * (1+ con_prob)\n",
    "# condition1_income\n",
    "\n",
    "condition2_income = df_finance_con3['운수사업수익']*con_prob\n",
    "# condition2_income\n",
    "\n",
    "df_finance_con3['조건3_총수익'] = df_finance_con3['총수익'] + condition1_income + condition2_income\n",
    "df_finance_con3['조건3_손해/이득액'] = df_finance_con3['조건3_총수익'] - df_finance_con3['총지출']\n",
    "\n",
    "df_finance_con3"
   ]
  },
  {
   "cell_type": "code",
   "execution_count": null,
   "id": "c4c18053",
   "metadata": {},
   "outputs": [],
   "source": [
    "## 조건3 plotting\n",
    "# 중앙선 그리기\n",
    "plt.figure(figsize=(12, 6))\n",
    "x = df_finance_con3['연도']\n",
    "\n",
    "y = df_finance_con3['조건3_손해/이득액']\n",
    "plt.axhline(0, color='black', linewidth=1)\n",
    "\n",
    "# 중앙선을 기준으로 위, 아래로 나뉘는 막대 그래프 그리기\n",
    "plt.bar(x, y, color=np.where(y>=0, 'blue', 'red'), alpha=0.5)\n",
    "plt.title(\"조건에 따른 손해/이득액\")\n",
    "plt.xlabel(\"연도\")\n",
    "plt.ylabel(\"금액\")\n",
    "plt.show()\n",
    "\n",
    "print(f\"조건 3의 손해/이득액의 합산은  {df_finance_con3['조건3_손해/이득액'].sum()}원 입니다.\")"
   ]
  },
  {
   "cell_type": "markdown",
   "id": "604eeb40",
   "metadata": {},
   "source": [
    "### 조건4 : 상승한 운임비용(25%) + 노령인구 전체에 운임비용 50%\n",
    "\n",
    "- 노령인구 전체에 운임비용 50%를 부과한 경우 + 기본 1250원에서 약 25% 상승한 요금을 받았을 경우.\n",
    "- 가장 반발이 클 것으로 예상되며, 거의 실현이 불가능하다고 판단되어짐.\n",
    "- 대략적인 금액에 대한 수치를 확인 하기 위하여 조건부 확인\n"
   ]
  },
  {
   "cell_type": "code",
   "execution_count": null,
   "id": "8bd85070",
   "metadata": {},
   "outputs": [],
   "source": [
    "df_finance_con4 = df_finance.copy()\n",
    "con_prob = 0.25\n",
    "con1_prob = 0.5\n",
    "subway_fee = 1250\n",
    "\n",
    "df_finance_con4"
   ]
  },
  {
   "cell_type": "code",
   "execution_count": null,
   "id": "065a5f0a",
   "metadata": {},
   "outputs": [],
   "source": [
    "condition1_income  = (annual_summary['무임승차'][:-1] * (1250*(1+con_prob)) * con1_prob)\n",
    "condition1_income\n",
    "\n",
    "condition2_income = df_finance_con4['운수사업수익']*con_prob\n",
    "condition2_income\n",
    "\n",
    "df_finance_con4['조건4_총수익'] = df_finance_con4['총수익'] + condition1_income + condition2_income\n",
    "df_finance_con4['조건4_손해/이득액'] = df_finance_con4['조건4_총수익'] - df_finance_con4['총지출']\n",
    "\n",
    "df_finance_con4"
   ]
  },
  {
   "cell_type": "code",
   "execution_count": null,
   "id": "2fd130f7",
   "metadata": {},
   "outputs": [],
   "source": [
    "## 조건4 plotting\n",
    "\n",
    "# 중앙선 그리기\n",
    "plt.figure(figsize=(12, 6))\n",
    "x = df_finance_con4['연도']\n",
    "\n",
    "y = df_finance_con4['조건4_손해/이득액']\n",
    "plt.axhline(0, color='black', linewidth=1)\n",
    "\n",
    "# 중앙선을 기준으로 위, 아래로 나뉘는 막대 그래프 그리기\n",
    "plt.bar(x, y, color=np.where(y>=0, 'blue', 'red'), alpha=0.5)\n",
    "plt.title(\"조건에 따른 손해/이득액\")\n",
    "plt.xlabel(\"연도\")\n",
    "plt.ylabel(\"금액\")\n",
    "plt.show()\n",
    "\n",
    "print(f\"조건 4의 손해/이득액의 합산은 {df_finance_con4['조건4_손해/이득액'].sum()}원 입니다.\")"
   ]
  },
  {
   "cell_type": "markdown",
   "id": "5c28cdc0",
   "metadata": {},
   "source": [
    "\n",
    "### 조건 5 : 상승된 운임금액(25%) + 차등부과\n",
    "\n",
    "- 민지님이 조사해주신 내용을 통해서 노령인구에서 소득에 따른 운임비용 차등 부과\n"
   ]
  },
  {
   "cell_type": "code",
   "execution_count": null,
   "id": "85089eed",
   "metadata": {},
   "outputs": [],
   "source": [
    "df_finance_con5 = df_finance.copy()\n",
    "con_prob = 0.25\n",
    "subway_fee = 1250\n",
    "\n",
    "df_finance_con5"
   ]
  },
  {
   "cell_type": "code",
   "execution_count": null,
   "id": "cb4d5fbd",
   "metadata": {},
   "outputs": [],
   "source": [
    "df_finance_con5['조건5_총수익'] = df_finance_con5['총수익'] + (df_finance_con5['운수사업수익']* 0.25) + df_finance_con5['무임승차기대수익']\n",
    "\n",
    "df_finance_con5\n",
    "\n",
    "df_finance_con5['조건5_손해/이득액'] = df_finance_con5['조건5_총수익'] - df_finance_con5['총지출']\n",
    "df_finance_con5\n",
    "\n",
    "print(f\"조건 5의 손해/이득액의 합산은 {df_finance_con5['조건5_손해/이득액'].sum()}원 입니다.\")"
   ]
  },
  {
   "cell_type": "code",
   "execution_count": null,
   "id": "aa3991f3",
   "metadata": {},
   "outputs": [],
   "source": [
    "## 조건5 plotting\n",
    "# 중앙선 그리기\n",
    "plt.figure(figsize=(12, 6))\n",
    "x = df_finance_con5['연도']\n",
    "\n",
    "y = df_finance_con5['조건5_손해/이득액']\n",
    "plt.axhline(0, color='black', linewidth=1)\n",
    "\n",
    "# 중앙선을 기준으로 위, 아래로 나뉘는 막대 그래프 그리기\n",
    "plt.bar(x, y, color=np.where(y>=0, 'blue', 'red'), alpha=0.5)\n",
    "plt.title(\"조건에 따른 손해/이득액\")\n",
    "plt.xlabel(\"연도\")\n",
    "plt.ylabel(\"금액\")\n",
    "plt.show()\n"
   ]
  },
  {
   "cell_type": "markdown",
   "id": "7fb77744",
   "metadata": {},
   "source": [
    "\n",
    "## 그외 잡다한 것\n",
    "\n",
    "### 선기님 데이터 셋 구축\n",
    "- 년도 월에 따른 유임승차 비율 도출\n",
    "\n",
    "예시) 2016년 1월의 유임승차의 비율은 2016년 전체 유임승차인원의 비율에서 몇%를 차지하는지에 대해서 비율 도출\n"
   ]
  },
  {
   "cell_type": "code",
   "execution_count": null,
   "id": "c7a3fe80",
   "metadata": {},
   "outputs": [],
   "source": [
    "# 연도별 유임승차, 무임승차, 무임승차비율, 유무임승차(유임승차 + 무임승차) 데이터 셋\n",
    "annual_summary\n",
    "\n",
    "# 년 월에 따른 데이터 셋\n",
    "df_month\n",
    "\n",
    "# 결과를 저장할 새로운 데이터프레임 생성\n",
    "df_ratio = pd.DataFrame()\n",
    "\n",
    "for year in range(start_year, end_year + 1):\n",
    "    # 해당 년도의 전체 유임승차 합계\n",
    "    total_fare_paying = annual_summary[annual_summary['연도'] == year]['유임승차'].values[0]\n",
    "\n",
    "    # 해당 년도의 각 월별 유임승차 합계\n",
    "    df_month_year = df_month[df_month['년월'].str.startswith(str(year))]\n",
    "\n",
    "    # 각 월별 유임승차 합계가 전체 유임승차에 대해 차지하는 비율을 계산\n",
    "    df_month_year['유임승차비율(%)'] = df_month_year['유임승차 합계'] / total_fare_paying * 100\n",
    "\n",
    "    # df_ratio에 df_month_year를 추가\n",
    "    df_ratio = pd.concat([df_ratio, df_month_year], ignore_index=True)\n",
    "\n",
    "df_ratio\n",
    "\n",
    "df_ratio.to_csv(\"df_month_pay_ratio.csv\", index=False, encoding='cp949')"
   ]
  },
  {
   "cell_type": "code",
   "execution_count": null,
   "id": "12d714d7",
   "metadata": {},
   "outputs": [],
   "source": [
    "df_ratio\n",
    "df_ratio[-16:]"
   ]
  },
  {
   "cell_type": "code",
   "execution_count": null,
   "id": "a46f8825",
   "metadata": {},
   "outputs": [],
   "source": [
    "## 유임승차 추이 plotting\n",
    "sns.lineplot(x=df_ratio[-16:]['년월'], y=df_ratio[-16:]['유임승차 합계'], marker='o')\n",
    "plt.ylim([1.0e8, 2.0e8])\n",
    "plt.grid(True)\n",
    "plt.title('2023년 3월 ~ 2024년 6월 유임승차 추이')\n",
    "plt.xticks(ticks=range(len(df_ratio[-16:])),  rotation=45)\n",
    "plt.show()"
   ]
  },
  {
   "cell_type": "markdown",
   "id": "1c70ae62",
   "metadata": {},
   "source": [
    "\n",
    "### 민지님 데이터 가공\n",
    "- 연도별 운수사업수익 및 이용객수 관련\n"
   ]
  },
  {
   "cell_type": "code",
   "execution_count": null,
   "id": "cd06b652",
   "metadata": {},
   "outputs": [],
   "source": [
    "new_df = pd.concat([annual_summary[:-1], df_finance['운수사업수익']], axis=1)\n",
    "\n",
    "new_df.to_csv('subway_data.csv', encoding = 'cp949')"
   ]
  },
  {
   "cell_type": "markdown",
   "id": "aae42ebc",
   "metadata": {},
   "source": [
    "\n",
    "### 연도별 손해액 plot\n"
   ]
  },
  {
   "cell_type": "code",
   "execution_count": null,
   "id": "275932cb",
   "metadata": {},
   "outputs": [],
   "source": [
    "plot_finance = df_finance.copy()\n",
    "plot_finance['손해/이득액'] = plot_finance['손해/이득액'] / 1e8"
   ]
  },
  {
   "cell_type": "code",
   "execution_count": null,
   "id": "beb1abf9",
   "metadata": {},
   "outputs": [],
   "source": [
    "\n",
    "# 중앙선 그리기\n",
    "plt.figure(figsize=(12, 6))\n",
    "x = plot_finance['연도']\n",
    "y = plot_finance['손해/이득액']\n",
    "plt.axhline(0, color='black', linewidth=1)\n",
    "\n",
    "# 중앙선을 기준으로 위, 아래로 나뉘는 막대 그래프 그리기\n",
    "bars = plt.bar(x, y, color=np.where(y >= 0, 'blue', 'red'), alpha=0.5)\n",
    "\n",
    "# 막대 위에 수치 표시\n",
    "for bar in bars:\n",
    "    height = bar.get_height()\n",
    "    plt.text(bar.get_x() + bar.get_width() / 2.0, height, f'{height:.0f}', ha='center', va='bottom' if height >= 0 else 'top')\n",
    "\n",
    "plt.title(\"손해/이득액\", fontsize=20)\n",
    "plt.xlabel(\"연도\", fontsize=16)\n",
    "plt.ylabel(\"금액(억)\", fontsize=16)\n",
    "plt.show()\n"
   ]
  }
 ],
 "metadata": {
  "language_info": {
   "name": "python"
  }
 },
 "nbformat": 4,
 "nbformat_minor": 5
}
